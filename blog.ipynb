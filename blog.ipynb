{
 "cells": [
  {
   "cell_type": "markdown",
   "metadata": {},
   "source": [
    "# Intuition for Overfitting"
   ]
  },
  {
   "cell_type": "markdown",
   "metadata": {},
   "source": [
    "## Background\n",
    "\n",
    "I was working on a classification project and getting great test results. But as you can imagine (since I'm writing this article), the results were too good to be true. I was overfitting my data. I want to share the intuition behind overfitting and how to avoid it with this toy example."
   ]
  },
  {
   "attachments": {},
   "cell_type": "markdown",
   "metadata": {},
   "source": [
    "## The task\n",
    "\n",
    "I have a dataset of ~200 emails, and I want to predict whether they are spam or not. "
   ]
  },
  {
   "cell_type": "code",
   "execution_count": 53,
   "metadata": {},
   "outputs": [
    {
     "name": "stdout",
     "output_type": "stream",
     "text": [
      "(5171, 4)\n"
     ]
    }
   ],
   "source": [
    "import pandas as pd\n",
    "\n",
    "df = pd.read_csv('./spam_ham_dataset.csv')\n",
    "df.head()\n",
    "print(df.shape)"
   ]
  },
  {
   "cell_type": "markdown",
   "metadata": {},
   "source": [
    "Here's a spam email, and here's a real email."
   ]
  },
  {
   "cell_type": "code",
   "execution_count": 23,
   "metadata": {},
   "outputs": [
    {
     "name": "stdout",
     "output_type": "stream",
     "text": [
      "Subject: photoshop , windows , office . cheap . main trending\n",
      "abasements darer prudently fortuitous undergone\n",
      "lighthearted charm orinoco taster\n",
      "railroad affluent pornographic cuvier\n",
      "irvin parkhouse blameworthy chlorophyll\n",
      "robed diagrammatic fogarty clears bayda\n",
      "inconveniencing managing represented smartness hashish\n",
      "academies shareholders unload badness\n",
      "danielson pure caffein\n",
      "spaniard chargeable levin\n",
      "\n"
     ]
    }
   ],
   "source": [
    "# spam\n",
    "print(df[df['label_num'] == 1]['text'].values[0])"
   ]
  },
  {
   "cell_type": "code",
   "execution_count": 25,
   "metadata": {},
   "outputs": [
    {
     "name": "stdout",
     "output_type": "stream",
     "text": [
      "Subject: enron methanol ; meter # : 988291\n",
      "this is a follow up to the note i gave you on monday , 4 / 3 / 00 { preliminary\n",
      "flow data provided by daren } .\n",
      "please override pop ' s daily volume { presently zero } to reflect daily\n",
      "activity you can obtain from gas control .\n",
      "this change is needed asap for economics purposes .\n"
     ]
    }
   ],
   "source": [
    "# not spam\n",
    "print(df[df['label_num'] == 0]['text'].values[0])"
   ]
  },
  {
   "cell_type": "markdown",
   "metadata": {},
   "source": [
    "Let's clean up the text and lemmatize it."
   ]
  },
  {
   "cell_type": "code",
   "execution_count": 42,
   "metadata": {},
   "outputs": [
    {
     "name": "stderr",
     "output_type": "stream",
     "text": [
      "[nltk_data] Downloading package punkt to /Users/bkitano/nltk_data...\n",
      "[nltk_data]   Package punkt is already up-to-date!\n",
      "[nltk_data] Downloading package stopwords to\n",
      "[nltk_data]     /Users/bkitano/nltk_data...\n",
      "[nltk_data]   Package stopwords is already up-to-date!\n",
      "[nltk_data] Downloading package wordnet to /Users/bkitano/nltk_data...\n",
      "[nltk_data]   Package wordnet is already up-to-date!\n"
     ]
    }
   ],
   "source": [
    "import nltk\n",
    "\n",
    "nltk.download('punkt')\n",
    "nltk.download('stopwords')\n",
    "nltk.download('wordnet')\n",
    "\n",
    "def clean(text):\n",
    "    wn = nltk.WordNetLemmatizer()\n",
    "    stopword = nltk.corpus.stopwords.words('english')\n",
    "    tokens = nltk.word_tokenize(text)\n",
    "    lower = [word.lower() for word in tokens]\n",
    "    no_stopwords = [word for word in lower if word not in stopword]\n",
    "    no_alpha = [word for word in no_stopwords if word.isalpha()]\n",
    "    lemm_text = [wn.lemmatize(word) for word in no_alpha]\n",
    "    clean_text = lemm_text\n",
    "    return clean_text\n",
    "\n",
    "df['clean_text'] = df['text'].apply(clean)"
   ]
  },
  {
   "attachments": {},
   "cell_type": "markdown",
   "metadata": {},
   "source": [
    "### Load the tf-idf vectorizer"
   ]
  },
  {
   "cell_type": "markdown",
   "metadata": {},
   "source": [
    "We need to turn the emails into vectors of numbers. We'll use the tf-idf vectorizer from scikit-learn. "
   ]
  },
  {
   "attachments": {},
   "cell_type": "markdown",
   "metadata": {},
   "source": [
    "Train and fit tf-idf on the dataset to create embeddings"
   ]
  },
  {
   "cell_type": "code",
   "execution_count": 43,
   "metadata": {},
   "outputs": [],
   "source": [
    "from sklearn.feature_extraction.text import TfidfVectorizer\n",
    "from sklearn.model_selection import train_test_split\n",
    "\n",
    "tfidf = TfidfVectorizer()\n",
    "X = tfidf.fit_transform(df['clean_text'].apply(lambda x: ' '.join(x)))\n",
    "y = df['label_num']\n",
    "\n",
    "X_train, X_test, y_train, y_test = train_test_split(X, y)"
   ]
  },
  {
   "attachments": {},
   "cell_type": "markdown",
   "metadata": {},
   "source": [
    "Fit logistic regression to classify based on lemmatized words, show that it works well"
   ]
  },
  {
   "cell_type": "code",
   "execution_count": 44,
   "metadata": {},
   "outputs": [
    {
     "name": "stdout",
     "output_type": "stream",
     "text": [
      "0.9956162970603404\n",
      "[0.98582474 0.98969072 0.98195876 0.98193548 0.98064516]\n",
      "              precision    recall  f1-score   support\n",
      "\n",
      "           0       0.98      1.00      0.99       934\n",
      "           1       0.99      0.95      0.97       359\n",
      "\n",
      "    accuracy                           0.98      1293\n",
      "   macro avg       0.99      0.97      0.98      1293\n",
      "weighted avg       0.98      0.98      0.98      1293\n",
      "\n"
     ]
    }
   ],
   "source": [
    "from sklearn.linear_model import LogisticRegression\n",
    "from sklearn.model_selection import cross_val_score\n",
    "from sklearn.metrics import classification_report\n",
    "\n",
    "lr = LogisticRegression()\n",
    "lr.fit(X_train, y_train)\n",
    "print(lr.score(X_train, y_train))\n",
    "\n",
    "print(cross_val_score(lr, X_train, y_train, cv=5))\n",
    "\n",
    "print(classification_report(lr.predict(X_test), y_test))"
   ]
  },
  {
   "cell_type": "markdown",
   "metadata": {},
   "source": [
    "It's doing very well on the test set."
   ]
  },
  {
   "attachments": {},
   "cell_type": "markdown",
   "metadata": {},
   "source": [
    "Dive in on how: the logistic regression is learning - learning a score for each word."
   ]
  },
  {
   "cell_type": "code",
   "execution_count": 45,
   "metadata": {},
   "outputs": [
    {
     "data": {
      "image/png": "[encoded data removed]",
      "text/plain": [
       "<Figure size 1500x500 with 1 Axes>"
      ]
     },
     "metadata": {},
     "output_type": "display_data"
    }
   ],
   "source": [
    "# get the weights of each word within the linear regression\n",
    "import numpy as np\n",
    "import matplotlib.pyplot as plt\n",
    "\n",
    "def plot_coefficients(classifier, feature_names, top_features=20):\n",
    "    coef = classifier.coef_.ravel()\n",
    "    top_positive_coefficients = np.argsort(coef)[-top_features:]\n",
    "    top_negative_coefficients = np.argsort(coef)[:top_features]\n",
    "\n",
    "    top_coefficients = np.hstack([top_negative_coefficients, top_positive_coefficients])\n",
    "\n",
    "    plt.figure(figsize=(15, 5))\n",
    "    colors = ['red' if c < 0 else 'blue' for c in coef[top_coefficients]]\n",
    "    plt.bar(np.arange(2 * top_features), coef[top_coefficients], color=colors)\n",
    "    feature_names = np.array(feature_names)\n",
    "    plt.xticks(np.arange(1, 1 + 2 * top_features), feature_names[top_coefficients], rotation=60, ha='right')\n",
    "    plt.show()\n",
    "\n",
    "# get feature names from tfidf\n",
    "feature_names = tfidf.get_feature_names_out()\n",
    "plot_coefficients(lr, feature_names)\n"
   ]
  },
  {
   "cell_type": "markdown",
   "metadata": {},
   "source": [
    "# How the neural net works"
   ]
  },
  {
   "attachments": {},
   "cell_type": "markdown",
   "metadata": {},
   "source": [
    "Load the SimpleNet, train it on the dataset, show that it works poorly"
   ]
  },
  {
   "cell_type": "code",
   "execution_count": 47,
   "metadata": {},
   "outputs": [],
   "source": [
    "import torch\n",
    "from torch.utils.data import DataLoader, TensorDataset\n",
    "\n",
    "# convert dataset to tensors\n",
    "_X, _y = torch.Tensor(X.todense()), torch.Tensor(y)\n",
    "X_train, X_test, y_train, y_test = train_test_split(_X, _y)\n",
    "\n",
    "# Convert datasets to TensorDataset and use DataLoader\n",
    "train_dataset = TensorDataset(X_train, y_train)\n",
    "train_loader = DataLoader(train_dataset, batch_size=32, shuffle=True)\n"
   ]
  },
  {
   "cell_type": "code",
   "execution_count": 48,
   "metadata": {},
   "outputs": [],
   "source": [
    "from torch import nn\n",
    "from torch.nn import functional as F\n",
    "\n",
    "def get_layers_list(layer_sizes, dropout=.2):\n",
    "    tups = zip(layer_sizes[:-1], layer_sizes[1:])\n",
    "    modules = [nn.Linear(t[0], t[1]) for t in tups]\n",
    "    dropouts = [nn.Dropout(dropout) for _ in range(len(modules))]\n",
    "    layers = [i for t in zip(modules, dropouts) for i in t]\n",
    "    return layers\n",
    "\n",
    "class SimpleNet(nn.Module):\n",
    "    def __init__(self, layers_list, dropout=.2):\n",
    "        super().__init__()\n",
    "        module_list = get_layers_list(layers_list, dropout)\n",
    "        self.layers = nn.ModuleList(module_list)\n",
    "\n",
    "    def forward(self, x):\n",
    "        for layer in self.layers[:-1]:\n",
    "            x = F.relu(layer(x))\n",
    "        \n",
    "        # if you relu before sigmoid on output, you'll never get values < 0, so you'll never get probs less than .5\n",
    "        last = self.layers[-1](x) \n",
    "        \n",
    "        out = F.sigmoid(last)\n",
    "        return out\n",
    "    \n",
    "model = SimpleNet([X_train.shape[1], 1])"
   ]
  },
  {
   "cell_type": "code",
   "execution_count": 54,
   "metadata": {},
   "outputs": [
    {
     "name": "stdout",
     "output_type": "stream",
     "text": [
      "Epoch 0 loss: 0.5815473198890686\n",
      "Epoch 1 loss: 0.5846753716468811\n",
      "Epoch 2 loss: 0.4117375612258911\n",
      "Epoch 3 loss: 0.6057884097099304\n",
      "Epoch 4 loss: 0.6025829911231995\n",
      "Epoch 5 loss: 0.4955756664276123\n",
      "Epoch 6 loss: 0.6931471824645996\n",
      "Epoch 7 loss: 0.6931471824645996\n",
      "Epoch 8 loss: 0.35805490612983704\n",
      "Epoch 9 loss: 0.3578105866909027\n"
     ]
    }
   ],
   "source": [
    "optimizer = torch.optim.Adam(model.parameters(), lr=0.001)\n",
    "loss_fn = nn.BCELoss()\n",
    "\n",
    "epochs = 10\n",
    "for epoch in range(epochs):\n",
    "    model.train()\n",
    "    for i, (X, y) in enumerate(train_loader):\n",
    "        optimizer.zero_grad()\n",
    "        y_pred = model(X)\n",
    "        loss = loss_fn(y_pred, y.unsqueeze(1))\n",
    "        loss.backward()\n",
    "        optimizer.step()\n",
    "    \n",
    "    print(f'Epoch {epoch} loss: {loss.item()}')"
   ]
  },
  {
   "cell_type": "code",
   "execution_count": 55,
   "metadata": {},
   "outputs": [
    {
     "name": "stdout",
     "output_type": "stream",
     "text": [
      "              precision    recall  f1-score   support\n",
      "\n",
      "   automated       1.00      0.81      0.90       925\n",
      "       human       0.68      1.00      0.81       368\n",
      "\n",
      "    accuracy                           0.87      1293\n",
      "   macro avg       0.84      0.91      0.85      1293\n",
      "weighted avg       0.91      0.87      0.87      1293\n",
      "\n"
     ]
    }
   ],
   "source": [
    "def print_class_report(model, X_val, y_val):\n",
    "    model.eval()\n",
    "    y_pred = model(X_val)\n",
    "    y_pred = y_pred.detach().numpy()\n",
    "    y_pred = np.round(y_pred)\n",
    "    y_pred = y_pred.squeeze()\n",
    "\n",
    "    print(classification_report(y_val.squeeze().detach().numpy(), y_pred, zero_division=0, target_names=['automated', 'human'], labels=[0, 1]))\n",
    "\n",
    "print_class_report(model, X_test, y_test)"
   ]
  },
  {
   "attachments": {},
   "cell_type": "markdown",
   "metadata": {},
   "source": [
    "Show how the SimpleNet is actually an ensemble of independent logistic regressions, each learning a score for each word. The output node is yet another logistic regression, learning a score for each group of words."
   ]
  },
  {
   "attachments": {},
   "cell_type": "markdown",
   "metadata": {},
   "source": [
    "Show that if we investigate a single first-layer neuron, we can actually map it to a single email in our dataset - indicating severe overfitting."
   ]
  },
  {
   "cell_type": "markdown",
   "metadata": {},
   "source": [
    "Explore whether adding regularization helps. It does, but not enough.\n",
    "- dropout\n",
    "- `l2` regularization"
   ]
  },
  {
   "attachments": {},
   "cell_type": "markdown",
   "metadata": {},
   "source": [
    "Conclusions: neural nets are not magic, they are just a bunch of logistic regressions. They are not a good fit for this problem, because they are too powerful and overfit."
   ]
  }
 ],
 "metadata": {
  "kernelspec": {
   "display_name": ".signature",
   "language": "python",
   "name": "python3"
  },
  "language_info": {
   "codemirror_mode": {
    "name": "ipython",
    "version": 3
   },
   "file_extension": ".py",
   "mimetype": "text/x-python",
   "name": "python",
   "nbconvert_exporter": "python",
   "pygments_lexer": "ipython3",
   "version": "3.11.6"
  },
  "orig_nbformat": 4
 },
 "nbformat": 4,
 "nbformat_minor": 2
}
